{
 "cells": [
  {
   "cell_type": "code",
   "execution_count": 1,
   "metadata": {},
   "outputs": [],
   "source": [
    "import ultron\n",
    "import pandas as pd\n",
    "from atom_wrapper.atomwrapper import AtomWrapper\n",
    "import seaborn as sns\n",
    "import datetime\n",
    "import matplotlib.pyplot as plt\n",
    "bbg = AtomWrapper()"
   ]
  },
  {
   "cell_type": "code",
   "execution_count": 2,
   "metadata": {},
   "outputs": [],
   "source": [
    "tags = ultron.edf_get_tag_descriptions()"
   ]
  },
  {
   "cell_type": "code",
   "execution_count": 58,
   "metadata": {},
   "outputs": [
    {
     "name": "stdout",
     "output_type": "stream",
     "text": [
      "Found 19503 article(s)\n",
      "{'query': {'bool': {'filter': [{'range': {'ts_update': {'gte': datetime.datetime(2019, 1, 1, 0, 0),\n",
      "                                                        'lt': datetime.datetime(2021, 5, 1, 0, 0)}}}],\n",
      "                    'must': [{'match': {'event_type': 'analytic'}},\n",
      "                             {'bool': {'minimum_should_match': 1,\n",
      "                                       'should': [{'match': {'parsed_DerivedTopics.Id': 'SECONDBA'}}]}}]}}}\n"
     ]
    },
    {
     "data": {
      "application/vnd.jupyter.widget-view+json": {
       "model_id": "f45635f07a83454e95490f8db8a1dec0",
       "version_major": 2,
       "version_minor": 0
      },
      "text/plain": [
       "HBox(children=(FloatProgress(value=0.0, description='Loading stories...', max=19503.0, style=ProgressStyle(des…"
      ]
     },
     "metadata": {},
     "output_type": "display_data"
    },
    {
     "name": "stdout",
     "output_type": "stream",
     "text": [
      "\n"
     ]
    }
   ],
   "source": [
    "sofers = ultron.edf_get_analytics_story(start_date='2019-01-01', end_date='2021-05-01', tags=['SECONDBA'])"
   ]
  },
  {
   "cell_type": "code",
   "execution_count": 64,
   "metadata": {},
   "outputs": [],
   "source": [
    "NUM_DAYS_FROM_NOW = 31"
   ]
  },
  {
   "cell_type": "code",
   "execution_count": 65,
   "metadata": {},
   "outputs": [],
   "source": [
    "ofrs = ultron.edf_analytics_story_get_ticker_sentiment(sofers)\n",
    "ofrs = ofrs[~ofrs.ticker.str.contains(\"@\")]\n",
    "ofrs.set_index('utc_time', inplace=True)\n",
    "ofrs = ofrs[ofrs['ticker'].shift(-1)!=ofrs['ticker']]\n",
    "ofrs = ofrs[ofrs.index<pd.to_datetime(datetime.date.today(), utc=True)-pd.Timedelta(days=NUM_DAYS_FROM_NOW)]\n",
    "ofrs = ofrs[ofrs.ticker.apply(lambda x: not any([str.isdigit(y) for y in x]))]"
   ]
  },
  {
   "cell_type": "code",
   "execution_count": 66,
   "metadata": {},
   "outputs": [
    {
     "data": {
      "text/plain": [
       "<matplotlib.lines.Line2D at 0x7f42c943db10>"
      ]
     },
     "execution_count": 66,
     "metadata": {},
     "output_type": "execute_result"
    },
    {
     "data": {
      "image/png": "[encoded data removed]",
      "text/plain": [
       "<Figure size 432x288 with 1 Axes>"
      ]
     },
     "metadata": {
      "needs_background": "light"
     },
     "output_type": "display_data"
    }
   ],
   "source": [
    "ofrs.index.hour.value_counts().sort_index().plot(kind='bar')\n",
    "plt.axvline(12+2.5)\n",
    "plt.axvline(12+9)"
   ]
  },
  {
   "cell_type": "markdown",
   "metadata": {},
   "source": [
    "### We see the effects of a secondary offering visually then statistically."
   ]
  },
  {
   "cell_type": "code",
   "execution_count": 75,
   "metadata": {},
   "outputs": [
    {
     "data": {
      "text/html": [
       "<div>\n",
       "<style scoped>\n",
       "    .dataframe tbody tr th:only-of-type {\n",
       "        vertical-align: middle;\n",
       "    }\n",
       "\n",
       "    .dataframe tbody tr th {\n",
       "        vertical-align: top;\n",
       "    }\n",
       "\n",
       "    .dataframe thead th {\n",
       "        text-align: right;\n",
       "    }\n",
       "</style>\n",
       "<table border=\"1\" class=\"dataframe\">\n",
       "  <thead>\n",
       "    <tr style=\"text-align: right;\">\n",
       "      <th></th>\n",
       "      <th>ticker</th>\n",
       "      <th>sentiment</th>\n",
       "      <th>headline</th>\n",
       "      <th>suid</th>\n",
       "      <th>analytics_type</th>\n",
       "    </tr>\n",
       "    <tr>\n",
       "      <th>utc_time</th>\n",
       "      <th></th>\n",
       "      <th></th>\n",
       "      <th></th>\n",
       "      <th></th>\n",
       "      <th></th>\n",
       "    </tr>\n",
       "  </thead>\n",
       "  <tbody>\n",
       "    <tr>\n",
       "      <th>2019-06-11 03:06:08.017000+00:00</th>\n",
       "      <td>NDAQ</td>\n",
       "      <td>0.000717</td>\n",
       "      <td>Alibaba’s Hong Kong Share Offering Should Worr...</td>\n",
       "      <td>PSWZA76JTSEC</td>\n",
       "      <td>MMN</td>\n",
       "    </tr>\n",
       "    <tr>\n",
       "      <th>2019-06-11 03:06:08.017000+00:00</th>\n",
       "      <td>BABA</td>\n",
       "      <td>0.000841</td>\n",
       "      <td>Alibaba’s Hong Kong Share Offering Should Worr...</td>\n",
       "      <td>PSWZA76JTSEC</td>\n",
       "      <td>MMN</td>\n",
       "    </tr>\n",
       "    <tr>\n",
       "      <th>2019-06-11 03:06:08.017000+00:00</th>\n",
       "      <td>DOYU</td>\n",
       "      <td>0.000717</td>\n",
       "      <td>Alibaba’s Hong Kong Share Offering Should Worr...</td>\n",
       "      <td>PSWZA76JTSEC</td>\n",
       "      <td>MMN</td>\n",
       "    </tr>\n",
       "    <tr>\n",
       "      <th>2019-06-11 03:06:08.017000+00:00</th>\n",
       "      <td>NDAQ</td>\n",
       "      <td>0.008052</td>\n",
       "      <td>Alibaba’s Hong Kong Share Offering Should Worr...</td>\n",
       "      <td>PSWZA76JTSEC</td>\n",
       "      <td>MMN_1STPASS</td>\n",
       "    </tr>\n",
       "    <tr>\n",
       "      <th>2019-06-11 03:06:08.017000+00:00</th>\n",
       "      <td>BABA</td>\n",
       "      <td>0.008052</td>\n",
       "      <td>Alibaba’s Hong Kong Share Offering Should Worr...</td>\n",
       "      <td>PSWZA76JTSEC</td>\n",
       "      <td>MMN_1STPASS</td>\n",
       "    </tr>\n",
       "    <tr>\n",
       "      <th>2019-06-11 03:06:08.017000+00:00</th>\n",
       "      <td>DOYU</td>\n",
       "      <td>0.008052</td>\n",
       "      <td>Alibaba’s Hong Kong Share Offering Should Worr...</td>\n",
       "      <td>PSWZA76JTSEC</td>\n",
       "      <td>MMN_1STPASS</td>\n",
       "    </tr>\n",
       "    <tr>\n",
       "      <th>2019-06-11 03:06:08.022000+00:00</th>\n",
       "      <td>BABA</td>\n",
       "      <td>0.008681</td>\n",
       "      <td>Alibaba’s Hong Kong Share Offering Should Worr...</td>\n",
       "      <td>PSWZA76JTSEC</td>\n",
       "      <td>MMN</td>\n",
       "    </tr>\n",
       "    <tr>\n",
       "      <th>2019-06-11 03:06:08.022000+00:00</th>\n",
       "      <td>DOYU</td>\n",
       "      <td>0.008681</td>\n",
       "      <td>Alibaba’s Hong Kong Share Offering Should Worr...</td>\n",
       "      <td>PSWZA76JTSEC</td>\n",
       "      <td>MMN</td>\n",
       "    </tr>\n",
       "    <tr>\n",
       "      <th>2019-06-11 03:06:08.022000+00:00</th>\n",
       "      <td>NDAQ</td>\n",
       "      <td>0.008681</td>\n",
       "      <td>Alibaba’s Hong Kong Share Offering Should Worr...</td>\n",
       "      <td>PSWZA76JTSEC</td>\n",
       "      <td>MMN</td>\n",
       "    </tr>\n",
       "  </tbody>\n",
       "</table>\n",
       "</div>"
      ],
      "text/plain": [
       "                                 ticker  sentiment  \\\n",
       "utc_time                                             \n",
       "2019-06-11 03:06:08.017000+00:00   NDAQ   0.000717   \n",
       "2019-06-11 03:06:08.017000+00:00   BABA   0.000841   \n",
       "2019-06-11 03:06:08.017000+00:00   DOYU   0.000717   \n",
       "2019-06-11 03:06:08.017000+00:00   NDAQ   0.008052   \n",
       "2019-06-11 03:06:08.017000+00:00   BABA   0.008052   \n",
       "2019-06-11 03:06:08.017000+00:00   DOYU   0.008052   \n",
       "2019-06-11 03:06:08.022000+00:00   BABA   0.008681   \n",
       "2019-06-11 03:06:08.022000+00:00   DOYU   0.008681   \n",
       "2019-06-11 03:06:08.022000+00:00   NDAQ   0.008681   \n",
       "\n",
       "                                                                           headline  \\\n",
       "utc_time                                                                              \n",
       "2019-06-11 03:06:08.017000+00:00  Alibaba’s Hong Kong Share Offering Should Worr...   \n",
       "2019-06-11 03:06:08.017000+00:00  Alibaba’s Hong Kong Share Offering Should Worr...   \n",
       "2019-06-11 03:06:08.017000+00:00  Alibaba’s Hong Kong Share Offering Should Worr...   \n",
       "2019-06-11 03:06:08.017000+00:00  Alibaba’s Hong Kong Share Offering Should Worr...   \n",
       "2019-06-11 03:06:08.017000+00:00  Alibaba’s Hong Kong Share Offering Should Worr...   \n",
       "2019-06-11 03:06:08.017000+00:00  Alibaba’s Hong Kong Share Offering Should Worr...   \n",
       "2019-06-11 03:06:08.022000+00:00  Alibaba’s Hong Kong Share Offering Should Worr...   \n",
       "2019-06-11 03:06:08.022000+00:00  Alibaba’s Hong Kong Share Offering Should Worr...   \n",
       "2019-06-11 03:06:08.022000+00:00  Alibaba’s Hong Kong Share Offering Should Worr...   \n",
       "\n",
       "                                          suid analytics_type  \n",
       "utc_time                                                       \n",
       "2019-06-11 03:06:08.017000+00:00  PSWZA76JTSEC            MMN  \n",
       "2019-06-11 03:06:08.017000+00:00  PSWZA76JTSEC            MMN  \n",
       "2019-06-11 03:06:08.017000+00:00  PSWZA76JTSEC            MMN  \n",
       "2019-06-11 03:06:08.017000+00:00  PSWZA76JTSEC    MMN_1STPASS  \n",
       "2019-06-11 03:06:08.017000+00:00  PSWZA76JTSEC    MMN_1STPASS  \n",
       "2019-06-11 03:06:08.017000+00:00  PSWZA76JTSEC    MMN_1STPASS  \n",
       "2019-06-11 03:06:08.022000+00:00  PSWZA76JTSEC            MMN  \n",
       "2019-06-11 03:06:08.022000+00:00  PSWZA76JTSEC            MMN  \n",
       "2019-06-11 03:06:08.022000+00:00  PSWZA76JTSEC            MMN  "
      ]
     },
     "execution_count": 75,
     "metadata": {},
     "output_type": "execute_result"
    }
   ],
   "source": [
    "ofrs[ofrs.suid == ofrs.suid.value_counts().index[0]]"
   ]
  },
  {
   "cell_type": "code",
   "execution_count": 9,
   "metadata": {},
   "outputs": [
    {
     "data": {
      "text/plain": [
       "utc_time\n",
       "2019-01-04 11:22:45.805000+00:00         DLR\n",
       "2019-01-08 12:33:21.045000+00:00         NLY\n",
       "2019-01-08 14:09:29.181000+00:00        LOXO\n",
       "2019-01-08 14:09:29.181000+00:00         BLK\n",
       "2019-01-08 14:09:29.181000+00:00        LOXO\n",
       "                                      ...   \n",
       "2020-12-17 21:19:24.100000+00:00        EGLE\n",
       "2020-12-17 22:01:28.166000+00:00    1515963D\n",
       "2020-12-17 22:01:28.167000+00:00        SPCE\n",
       "2020-12-18 12:14:13.617000+00:00        VTGN\n",
       "2020-12-18 13:13:08.325000+00:00        ASUR\n",
       "Name: ticker, Length: 4720, dtype: object"
      ]
     },
     "execution_count": 9,
     "metadata": {},
     "output_type": "execute_result"
    }
   ],
   "source": [
    "ofrs.ticker"
   ]
  },
  {
   "cell_type": "code",
   "execution_count": null,
   "metadata": {},
   "outputs": [],
   "source": []
  },
  {
   "cell_type": "code",
   "execution_count": null,
   "metadata": {},
   "outputs": [],
   "source": []
  },
  {
   "cell_type": "code",
   "execution_count": null,
   "metadata": {},
   "outputs": [],
   "source": []
  },
  {
   "cell_type": "code",
   "execution_count": null,
   "metadata": {},
   "outputs": [],
   "source": []
  },
  {
   "cell_type": "code",
   "execution_count": null,
   "metadata": {},
   "outputs": [],
   "source": []
  },
  {
   "cell_type": "code",
   "execution_count": null,
   "metadata": {},
   "outputs": [],
   "source": []
  },
  {
   "cell_type": "code",
   "execution_count": null,
   "metadata": {},
   "outputs": [],
   "source": []
  },
  {
   "cell_type": "code",
   "execution_count": null,
   "metadata": {},
   "outputs": [],
   "source": []
  },
  {
   "cell_type": "code",
   "execution_count": null,
   "metadata": {},
   "outputs": [],
   "source": []
  },
  {
   "cell_type": "code",
   "execution_count": null,
   "metadata": {},
   "outputs": [],
   "source": []
  },
  {
   "cell_type": "code",
   "execution_count": null,
   "metadata": {},
   "outputs": [],
   "source": []
  },
  {
   "cell_type": "code",
   "execution_count": null,
   "metadata": {},
   "outputs": [],
   "source": []
  },
  {
   "cell_type": "code",
   "execution_count": null,
   "metadata": {},
   "outputs": [],
   "source": []
  },
  {
   "cell_type": "code",
   "execution_count": null,
   "metadata": {},
   "outputs": [],
   "source": []
  },
  {
   "cell_type": "code",
   "execution_count": null,
   "metadata": {},
   "outputs": [],
   "source": []
  },
  {
   "cell_type": "code",
   "execution_count": null,
   "metadata": {},
   "outputs": [],
   "source": []
  },
  {
   "cell_type": "code",
   "execution_count": null,
   "metadata": {},
   "outputs": [],
   "source": []
  },
  {
   "cell_type": "code",
   "execution_count": null,
   "metadata": {},
   "outputs": [],
   "source": []
  },
  {
   "cell_type": "code",
   "execution_count": null,
   "metadata": {},
   "outputs": [],
   "source": []
  },
  {
   "cell_type": "code",
   "execution_count": null,
   "metadata": {},
   "outputs": [],
   "source": []
  },
  {
   "cell_type": "code",
   "execution_count": null,
   "metadata": {},
   "outputs": [],
   "source": []
  }
 ],
 "metadata": {
  "kernelspec": {
   "display_name": "swaps",
   "language": "python",
   "name": "swaps"
  },
  "language_info": {
   "codemirror_mode": {
    "name": "ipython",
    "version": 3
   },
   "file_extension": ".py",
   "mimetype": "text/x-python",
   "name": "python",
   "nbconvert_exporter": "python",
   "pygments_lexer": "ipython3",
   "version": "3.7.9"
  }
 },
 "nbformat": 4,
 "nbformat_minor": 4
}
