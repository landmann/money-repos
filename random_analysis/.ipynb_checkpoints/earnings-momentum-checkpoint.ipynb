{
 "cells": [
  {
   "cell_type": "code",
   "execution_count": 115,
   "metadata": {
    "ExecuteTime": {
     "end_time": "2021-01-24T04:30:03.141626Z",
     "start_time": "2021-01-24T04:30:03.139163Z"
    }
   },
   "outputs": [],
   "source": [
    "import pandas as pd\n",
    "import yfinance as yf\n",
    "import matplotlib.pyplot as plt\n",
    "import datetime\n",
    "from yahoo_earnings_calendar import YahooEarningsCalendar as yc"
   ]
  },
  {
   "cell_type": "code",
   "execution_count": null,
   "metadata": {},
   "outputs": [],
   "source": [
    "# Hypothesis:\n",
    "## Can we find lead-lag between FAANGS? \n",
    "## If a fang goes up, the others will follow until their earnings date.\n",
    "## After the earnings date it's a toss-up."
   ]
  },
  {
   "cell_type": "code",
   "execution_count": 123,
   "metadata": {
    "ExecuteTime": {
     "end_time": "2021-01-24T04:30:33.610050Z",
     "start_time": "2021-01-24T04:30:33.606991Z"
    }
   },
   "outputs": [],
   "source": [
    "today = str(datetime.datetime.today().date())"
   ]
  },
  {
   "cell_type": "code",
   "execution_count": 145,
   "metadata": {
    "ExecuteTime": {
     "end_time": "2021-01-24T04:38:15.498204Z",
     "start_time": "2021-01-24T04:38:15.494366Z"
    }
   },
   "outputs": [],
   "source": [
    "def get_open_and_cal(ticker, start_date):\n",
    "    cal = pd.DataFrame(yc().get_earnings_of(ticker))\n",
    "    cal.set_index('startdatetime', inplace=True)\n",
    "    cal.index = pd.to_datetime(cal.index)\n",
    "    cal.sort_index(inplace=True)\n",
    "    cal = cal[start_date:today]\n",
    "    \n",
    "    t = yf.Ticker(\"AAPL\")\n",
    "    px = t.history(period='85mo')[start_date:]\n",
    "    reqs = t.recommendations\n",
    "    \n",
    "    return px, cal"
   ]
  },
  {
   "cell_type": "code",
   "execution_count": 146,
   "metadata": {
    "ExecuteTime": {
     "end_time": "2021-01-24T04:38:36.517326Z",
     "start_time": "2021-01-24T04:38:15.969175Z"
    }
   },
   "outputs": [
    {
     "name": "stdout",
     "output_type": "stream",
     "text": [
      "Reading...\n",
      "Read apple\n",
      "Read Facebook\n",
      "Read Netflix\n",
      "Read Amazon\n",
      "Read Microsoft\n",
      "Read Google\n"
     ]
    }
   ],
   "source": [
    "print(\"Reading...\")\n",
    "aapl, aapl_cal = get_open_and_cal('AAPL', '2018-01-01')\n",
    "print(\"Read apple\")\n",
    "fb, fb_cal = get_open_and_cal('FB', '2018-01-01')\n",
    "print(\"Read Facebook\")\n",
    "nflx, nflx_cal = get_open_and_cal('NFLX', '2018-01-01')\n",
    "print(\"Read Netflix\")\n",
    "amzn, amzn_cal = get_open_and_cal('AMZN', '2018-01-01')\n",
    "print(\"Read Amazon\")\n",
    "msft, msft_cal = get_open_and_cal('MSFT', '2018-01-01')\n",
    "print(\"Read Microsoft\")\n",
    "goog, goog_cal = get_open_and_cal('GOOG', '2018-01-01')\n",
    "print(\"Read Google\")"
   ]
  },
  {
   "cell_type": "code",
   "execution_count": 150,
   "metadata": {
    "ExecuteTime": {
     "end_time": "2021-01-24T04:39:07.416846Z",
     "start_time": "2021-01-24T04:39:07.400293Z"
    }
   },
   "outputs": [
    {
     "data": {
      "text/html": [
       "<div>\n",
       "<style scoped>\n",
       "    .dataframe tbody tr th:only-of-type {\n",
       "        vertical-align: middle;\n",
       "    }\n",
       "\n",
       "    .dataframe tbody tr th {\n",
       "        vertical-align: top;\n",
       "    }\n",
       "\n",
       "    .dataframe thead th {\n",
       "        text-align: right;\n",
       "    }\n",
       "</style>\n",
       "<table border=\"1\" class=\"dataframe\">\n",
       "  <thead>\n",
       "    <tr style=\"text-align: right;\">\n",
       "      <th></th>\n",
       "      <th>ticker</th>\n",
       "      <th>companyshortname</th>\n",
       "      <th>startdatetimetype</th>\n",
       "      <th>epsestimate</th>\n",
       "      <th>epsactual</th>\n",
       "      <th>epssurprisepct</th>\n",
       "      <th>timeZoneShortName</th>\n",
       "      <th>gmtOffsetMilliSeconds</th>\n",
       "      <th>quoteType</th>\n",
       "    </tr>\n",
       "    <tr>\n",
       "      <th>startdatetime</th>\n",
       "      <th></th>\n",
       "      <th></th>\n",
       "      <th></th>\n",
       "      <th></th>\n",
       "      <th></th>\n",
       "      <th></th>\n",
       "      <th></th>\n",
       "      <th></th>\n",
       "      <th></th>\n",
       "    </tr>\n",
       "  </thead>\n",
       "  <tbody>\n",
       "    <tr>\n",
       "      <th>2018-02-01 00:00:00+00:00</th>\n",
       "      <td>AAPL</td>\n",
       "      <td>Apple Inc.</td>\n",
       "      <td>TNS</td>\n",
       "      <td>3.86</td>\n",
       "      <td>3.89</td>\n",
       "      <td>0.86</td>\n",
       "      <td>EST</td>\n",
       "      <td>0</td>\n",
       "      <td>EQUITY</td>\n",
       "    </tr>\n",
       "    <tr>\n",
       "      <th>2018-05-01 00:00:00+00:00</th>\n",
       "      <td>AAPL</td>\n",
       "      <td>Apple Inc.</td>\n",
       "      <td>TNS</td>\n",
       "      <td>2.67</td>\n",
       "      <td>2.73</td>\n",
       "      <td>2.13</td>\n",
       "      <td>EST</td>\n",
       "      <td>0</td>\n",
       "      <td>EQUITY</td>\n",
       "    </tr>\n",
       "    <tr>\n",
       "      <th>2018-07-31 00:00:00+00:00</th>\n",
       "      <td>AAPL</td>\n",
       "      <td>Apple Inc.</td>\n",
       "      <td>TNS</td>\n",
       "      <td>2.18</td>\n",
       "      <td>2.34</td>\n",
       "      <td>7.29</td>\n",
       "      <td>EST</td>\n",
       "      <td>0</td>\n",
       "      <td>EQUITY</td>\n",
       "    </tr>\n",
       "    <tr>\n",
       "      <th>2018-11-01 00:00:00+00:00</th>\n",
       "      <td>AAPL</td>\n",
       "      <td>Apple Inc.</td>\n",
       "      <td>TNS</td>\n",
       "      <td>0.70</td>\n",
       "      <td>0.73</td>\n",
       "      <td>4.60</td>\n",
       "      <td>EST</td>\n",
       "      <td>0</td>\n",
       "      <td>EQUITY</td>\n",
       "    </tr>\n",
       "    <tr>\n",
       "      <th>2019-01-29 00:00:00+00:00</th>\n",
       "      <td>AAPL</td>\n",
       "      <td>Apple Inc.</td>\n",
       "      <td>TNS</td>\n",
       "      <td>1.04</td>\n",
       "      <td>1.05</td>\n",
       "      <td>0.29</td>\n",
       "      <td>EST</td>\n",
       "      <td>0</td>\n",
       "      <td>EQUITY</td>\n",
       "    </tr>\n",
       "    <tr>\n",
       "      <th>2019-04-30 00:00:00+00:00</th>\n",
       "      <td>AAPL</td>\n",
       "      <td>Apple Inc.</td>\n",
       "      <td>TNS</td>\n",
       "      <td>0.59</td>\n",
       "      <td>0.62</td>\n",
       "      <td>4.24</td>\n",
       "      <td>EST</td>\n",
       "      <td>0</td>\n",
       "      <td>EQUITY</td>\n",
       "    </tr>\n",
       "    <tr>\n",
       "      <th>2019-07-30 00:00:00+00:00</th>\n",
       "      <td>AAPL</td>\n",
       "      <td>Apple Inc.</td>\n",
       "      <td>TNS</td>\n",
       "      <td>0.53</td>\n",
       "      <td>0.55</td>\n",
       "      <td>3.81</td>\n",
       "      <td>EST</td>\n",
       "      <td>0</td>\n",
       "      <td>EQUITY</td>\n",
       "    </tr>\n",
       "    <tr>\n",
       "      <th>2019-10-30 00:00:00+00:00</th>\n",
       "      <td>AAPL</td>\n",
       "      <td>Apple Inc.</td>\n",
       "      <td>TNS</td>\n",
       "      <td>0.71</td>\n",
       "      <td>0.76</td>\n",
       "      <td>6.76</td>\n",
       "      <td>EST</td>\n",
       "      <td>0</td>\n",
       "      <td>EQUITY</td>\n",
       "    </tr>\n",
       "    <tr>\n",
       "      <th>2020-01-28 00:00:00+00:00</th>\n",
       "      <td>AAPL</td>\n",
       "      <td>Apple Inc.</td>\n",
       "      <td>TNS</td>\n",
       "      <td>1.14</td>\n",
       "      <td>1.25</td>\n",
       "      <td>9.76</td>\n",
       "      <td>EST</td>\n",
       "      <td>0</td>\n",
       "      <td>EQUITY</td>\n",
       "    </tr>\n",
       "    <tr>\n",
       "      <th>2020-04-30 00:00:00+00:00</th>\n",
       "      <td>AAPL</td>\n",
       "      <td>Apple Inc.</td>\n",
       "      <td>TNS</td>\n",
       "      <td>0.56</td>\n",
       "      <td>0.64</td>\n",
       "      <td>12.92</td>\n",
       "      <td>EST</td>\n",
       "      <td>0</td>\n",
       "      <td>EQUITY</td>\n",
       "    </tr>\n",
       "    <tr>\n",
       "      <th>2020-07-30 00:00:00+00:00</th>\n",
       "      <td>AAPL</td>\n",
       "      <td>Apple Inc.</td>\n",
       "      <td>TNS</td>\n",
       "      <td>0.51</td>\n",
       "      <td>0.65</td>\n",
       "      <td>26.22</td>\n",
       "      <td>EST</td>\n",
       "      <td>0</td>\n",
       "      <td>EQUITY</td>\n",
       "    </tr>\n",
       "    <tr>\n",
       "      <th>2020-10-29 00:00:00+00:00</th>\n",
       "      <td>AAPL</td>\n",
       "      <td>Apple Inc.</td>\n",
       "      <td>TNS</td>\n",
       "      <td>0.70</td>\n",
       "      <td>0.73</td>\n",
       "      <td>4.29</td>\n",
       "      <td>EST</td>\n",
       "      <td>0</td>\n",
       "      <td>EQUITY</td>\n",
       "    </tr>\n",
       "  </tbody>\n",
       "</table>\n",
       "</div>"
      ],
      "text/plain": [
       "                          ticker companyshortname startdatetimetype  \\\n",
       "startdatetime                                                         \n",
       "2018-02-01 00:00:00+00:00   AAPL       Apple Inc.               TNS   \n",
       "2018-05-01 00:00:00+00:00   AAPL       Apple Inc.               TNS   \n",
       "2018-07-31 00:00:00+00:00   AAPL       Apple Inc.               TNS   \n",
       "2018-11-01 00:00:00+00:00   AAPL       Apple Inc.               TNS   \n",
       "2019-01-29 00:00:00+00:00   AAPL       Apple Inc.               TNS   \n",
       "2019-04-30 00:00:00+00:00   AAPL       Apple Inc.               TNS   \n",
       "2019-07-30 00:00:00+00:00   AAPL       Apple Inc.               TNS   \n",
       "2019-10-30 00:00:00+00:00   AAPL       Apple Inc.               TNS   \n",
       "2020-01-28 00:00:00+00:00   AAPL       Apple Inc.               TNS   \n",
       "2020-04-30 00:00:00+00:00   AAPL       Apple Inc.               TNS   \n",
       "2020-07-30 00:00:00+00:00   AAPL       Apple Inc.               TNS   \n",
       "2020-10-29 00:00:00+00:00   AAPL       Apple Inc.               TNS   \n",
       "\n",
       "                           epsestimate  epsactual  epssurprisepct  \\\n",
       "startdatetime                                                       \n",
       "2018-02-01 00:00:00+00:00         3.86       3.89            0.86   \n",
       "2018-05-01 00:00:00+00:00         2.67       2.73            2.13   \n",
       "2018-07-31 00:00:00+00:00         2.18       2.34            7.29   \n",
       "2018-11-01 00:00:00+00:00         0.70       0.73            4.60   \n",
       "2019-01-29 00:00:00+00:00         1.04       1.05            0.29   \n",
       "2019-04-30 00:00:00+00:00         0.59       0.62            4.24   \n",
       "2019-07-30 00:00:00+00:00         0.53       0.55            3.81   \n",
       "2019-10-30 00:00:00+00:00         0.71       0.76            6.76   \n",
       "2020-01-28 00:00:00+00:00         1.14       1.25            9.76   \n",
       "2020-04-30 00:00:00+00:00         0.56       0.64           12.92   \n",
       "2020-07-30 00:00:00+00:00         0.51       0.65           26.22   \n",
       "2020-10-29 00:00:00+00:00         0.70       0.73            4.29   \n",
       "\n",
       "                          timeZoneShortName  gmtOffsetMilliSeconds quoteType  \n",
       "startdatetime                                                                 \n",
       "2018-02-01 00:00:00+00:00               EST                      0    EQUITY  \n",
       "2018-05-01 00:00:00+00:00               EST                      0    EQUITY  \n",
       "2018-07-31 00:00:00+00:00               EST                      0    EQUITY  \n",
       "2018-11-01 00:00:00+00:00               EST                      0    EQUITY  \n",
       "2019-01-29 00:00:00+00:00               EST                      0    EQUITY  \n",
       "2019-04-30 00:00:00+00:00               EST                      0    EQUITY  \n",
       "2019-07-30 00:00:00+00:00               EST                      0    EQUITY  \n",
       "2019-10-30 00:00:00+00:00               EST                      0    EQUITY  \n",
       "2020-01-28 00:00:00+00:00               EST                      0    EQUITY  \n",
       "2020-04-30 00:00:00+00:00               EST                      0    EQUITY  \n",
       "2020-07-30 00:00:00+00:00               EST                      0    EQUITY  \n",
       "2020-10-29 00:00:00+00:00               EST                      0    EQUITY  "
      ]
     },
     "execution_count": 150,
     "metadata": {},
     "output_type": "execute_result"
    }
   ],
   "source": [
    "aapl_cal"
   ]
  },
  {
   "cell_type": "code",
   "execution_count": null,
   "metadata": {},
   "outputs": [],
   "source": [
    "### Bucket calendars under 2020Q1, 2020Q2, ..."
   ]
  },
  {
   "cell_type": "code",
   "execution_count": 141,
   "metadata": {
    "ExecuteTime": {
     "end_time": "2021-01-24T04:34:04.858084Z",
     "start_time": "2021-01-24T04:34:04.582390Z"
    }
   },
   "outputs": [
    {
     "data": {
      "text/plain": [
       "<AxesSubplot:xlabel='Date'>"
      ]
     },
     "execution_count": 141,
     "metadata": {},
     "output_type": "execute_result"
    },
    {
     "data": {
      "image/png": "[encoded data removed]",
      "text/plain": [
       "<Figure size 1296x720 with 1 Axes>"
      ]
     },
     "metadata": {
      "needs_background": "light"
     },
     "output_type": "display_data"
    }
   ],
   "source": [
    "# [plt.axvline(x, color='green', linestyle='--') for x in dividends.index]\n",
    "for x in aapl_cal:\n",
    "    if x.month == 1:\n",
    "        plt.axvline(x, color='red', linestyle='--')\n",
    "    else:\n",
    "        plt.axvline(x, color='green', linestyle='--')\n",
    "aapl['Open'].plot(figsize=(18, 10))"
   ]
  },
  {
   "cell_type": "code",
   "execution_count": 64,
   "metadata": {
    "ExecuteTime": {
     "end_time": "2021-01-24T04:07:01.124306Z",
     "start_time": "2021-01-24T04:07:00.742651Z"
    }
   },
   "outputs": [],
   "source": [
    "import seaborn as sns"
   ]
  },
  {
   "cell_type": "code",
   "execution_count": 154,
   "metadata": {
    "ExecuteTime": {
     "end_time": "2021-01-24T04:39:35.066297Z",
     "start_time": "2021-01-24T04:39:35.063947Z"
    }
   },
   "outputs": [],
   "source": [
    "earnings = aapl_cal.index.date"
   ]
  },
  {
   "cell_type": "code",
   "execution_count": 158,
   "metadata": {
    "ExecuteTime": {
     "end_time": "2021-01-24T04:39:41.416565Z",
     "start_time": "2021-01-24T04:39:41.240463Z"
    }
   },
   "outputs": [
    {
     "name": "stderr",
     "output_type": "stream",
     "text": [
      "/usr/local/lib/python3.8/site-packages/seaborn/distributions.py:2557: FutureWarning: `distplot` is a deprecated function and will be removed in a future version. Please adapt your code to use either `displot` (a figure-level function with similar flexibility) or `histplot` (an axes-level function for histograms).\n",
      "  warnings.warn(msg, FutureWarning)\n"
     ]
    },
    {
     "data": {
      "text/plain": [
       "<matplotlib.lines.Line2D at 0x1290419d0>"
      ]
     },
     "execution_count": 158,
     "metadata": {},
     "output_type": "execute_result"
    },
    {
     "data": {
      "image/png": "[encoded data removed]",
      "text/plain": [
       "<Figure size 432x288 with 1 Axes>"
      ]
     },
     "metadata": {
      "needs_background": "light"
     },
     "output_type": "display_data"
    }
   ],
   "source": [
    "delay = 1 \n",
    "sns.distplot(px['2018':]['Open'].pct_change(delay).shift(-delay)[earnings], bins=len(earnings))\n",
    "plt.axvline(0, color='black', linestyle='--')"
   ]
  },
  {
   "cell_type": "code",
   "execution_count": null,
   "metadata": {},
   "outputs": [],
   "source": []
  },
  {
   "cell_type": "code",
   "execution_count": null,
   "metadata": {},
   "outputs": [],
   "source": []
  },
  {
   "cell_type": "code",
   "execution_count": null,
   "metadata": {},
   "outputs": [],
   "source": []
  },
  {
   "cell_type": "code",
   "execution_count": null,
   "metadata": {},
   "outputs": [],
   "source": []
  },
  {
   "cell_type": "code",
   "execution_count": null,
   "metadata": {},
   "outputs": [],
   "source": []
  },
  {
   "cell_type": "code",
   "execution_count": null,
   "metadata": {},
   "outputs": [],
   "source": []
  },
  {
   "cell_type": "code",
   "execution_count": null,
   "metadata": {},
   "outputs": [],
   "source": []
  },
  {
   "cell_type": "code",
   "execution_count": null,
   "metadata": {},
   "outputs": [],
   "source": []
  },
  {
   "cell_type": "code",
   "execution_count": null,
   "metadata": {},
   "outputs": [],
   "source": []
  },
  {
   "cell_type": "code",
   "execution_count": null,
   "metadata": {},
   "outputs": [],
   "source": []
  },
  {
   "cell_type": "code",
   "execution_count": null,
   "metadata": {},
   "outputs": [],
   "source": []
  },
  {
   "cell_type": "code",
   "execution_count": null,
   "metadata": {},
   "outputs": [],
   "source": []
  },
  {
   "cell_type": "code",
   "execution_count": null,
   "metadata": {},
   "outputs": [],
   "source": []
  },
  {
   "cell_type": "code",
   "execution_count": null,
   "metadata": {},
   "outputs": [],
   "source": []
  },
  {
   "cell_type": "code",
   "execution_count": null,
   "metadata": {},
   "outputs": [],
   "source": []
  },
  {
   "cell_type": "code",
   "execution_count": null,
   "metadata": {},
   "outputs": [],
   "source": []
  },
  {
   "cell_type": "code",
   "execution_count": null,
   "metadata": {},
   "outputs": [],
   "source": []
  },
  {
   "cell_type": "code",
   "execution_count": null,
   "metadata": {},
   "outputs": [],
   "source": []
  },
  {
   "cell_type": "code",
   "execution_count": null,
   "metadata": {},
   "outputs": [],
   "source": []
  }
 ],
 "metadata": {
  "kernelspec": {
   "display_name": "myenv",
   "language": "python",
   "name": "myenv"
  },
  "language_info": {
   "codemirror_mode": {
    "name": "ipython",
    "version": 3
   },
   "file_extension": ".py",
   "mimetype": "text/x-python",
   "name": "python",
   "nbconvert_exporter": "python",
   "pygments_lexer": "ipython3",
   "version": "3.8.6"
  }
 },
 "nbformat": 4,
 "nbformat_minor": 4
}
