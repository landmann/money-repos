{
 "cells": [
  {
   "cell_type": "markdown",
   "metadata": {},
   "source": [
    "<center> <h1>Volatiliy Trading </h1> </center>\n",
    "<center> <h2>Second Edition </h2> </center>\n",
    "<center> <h3>Euan Sinclair (2013) </h3> </center>"
   ]
  },
  {
   "cell_type": "markdown",
   "metadata": {},
   "source": [
    "This notebook puts to practice the book *Volatility Trading* from Euan Sinclair (2013), hosted [here](http://1.droppdf.com/files/gxQpD/volatility-trading-2013.pdf).\n",
    "\n",
    "The purpose is to accompany the book with examples, and to provide a more visual intuition to the text.\n",
    "Notes for the book will also be interspersed throughout to add context."
   ]
  },
  {
   "cell_type": "markdown",
   "metadata": {},
   "source": [
    "# Introduction"
   ]
  },
  {
   "cell_type": "markdown",
   "metadata": {},
   "source": [
    "Three parts to trading:\n",
    "\n",
    "1) finding profitable trades<br>\n",
    "2) Managing risks and bankrolls<br>\n",
    "3) Psychology<br>\n",
    "\n",
    "Trading options is a matter of **forecasting volatility** and understanding **how volatility determines the market price of options**."
   ]
  },
  {
   "cell_type": "code",
   "execution_count": null,
   "metadata": {},
   "outputs": [],
   "source": []
  },
  {
   "cell_type": "code",
   "execution_count": null,
   "metadata": {},
   "outputs": [],
   "source": []
  },
  {
   "cell_type": "markdown",
   "metadata": {},
   "source": [
    "## Chapter 1. Options Pricing"
   ]
  },
  {
   "cell_type": "code",
   "execution_count": null,
   "metadata": {},
   "outputs": [],
   "source": []
  },
  {
   "cell_type": "code",
   "execution_count": null,
   "metadata": {},
   "outputs": [],
   "source": []
  },
  {
   "cell_type": "code",
   "execution_count": null,
   "metadata": {},
   "outputs": [],
   "source": []
  },
  {
   "cell_type": "code",
   "execution_count": null,
   "metadata": {},
   "outputs": [],
   "source": []
  }
 ],
 "metadata": {
  "kernelspec": {
   "display_name": "swaps",
   "language": "python",
   "name": "swaps"
  },
  "language_info": {
   "codemirror_mode": {
    "name": "ipython",
    "version": 3
   },
   "file_extension": ".py",
   "mimetype": "text/x-python",
   "name": "python",
   "nbconvert_exporter": "python",
   "pygments_lexer": "ipython3",
   "version": "3.7.9"
  }
 },
 "nbformat": 4,
 "nbformat_minor": 4
}
