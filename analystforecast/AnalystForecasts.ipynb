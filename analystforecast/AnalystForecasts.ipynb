{
 "cells": [
  {
   "cell_type": "markdown",
   "metadata": {},
   "source": [
    "# Analyst Forecasts\n",
    "\n",
    "The objective of this notebook is to scrape analyst forecasts daily from multiple sources and understand what they mean and why they mean it. \n",
    "\n",
    "Once we have enough data, we can see which forecasters are good and which aren't, and how much an analysts forecast change can affect the market in the next 2 weeks or so.\n",
    "\n",
    "Maybe we should separate our analysis based on market cap / maturity of companies.\n",
    "\n",
    "How much do forecasters disagree?"
   ]
  },
  {
   "cell_type": "markdown",
   "metadata": {},
   "source": [
    "#### Forecasts\n",
    "* CNN Forecasts - Fix some minor mistakes\n",
    "* WallstreetZen\n",
    "* MarketBeat\n",
    "* TipRank\n",
    "* NewsQuantified - https://www.newsquantified.com/aapl/analysts\n",
    "* Benzinga - https://www.benzinga.com/stock/aapl/ratings\n",
    "\n",
    "#### Insiders\n",
    "* Morningstar\n",
    "\n",
    "#### Open Interest\n",
    "* https://www.barchart.com/stocks/quotes/PLTR/options"
   ]
  },
  {
   "cell_type": "markdown",
   "metadata": {},
   "source": [
    "# TODO\n",
    "\n",
    "Scrape all forecasts before doing any further analysis.<br>\n",
    "CNN forecasters suck. Maybe they're good at some particular sector..?"
   ]
  },
  {
   "cell_type": "code",
   "execution_count": 1,
   "metadata": {},
   "outputs": [],
   "source": [
    "import pandas as pd\n",
    "from bs4 import BeautifulSoup\n",
    "import requests\n",
    "import re\n",
    "from wayback import WaybackClient\n",
    "import datetime\n",
    "from tqdm.notebook import tqdm\n",
    "wbclient = WaybackClient()"
   ]
  },
  {
   "cell_type": "code",
   "execution_count": 2,
   "metadata": {},
   "outputs": [],
   "source": [
    "nasdaq_url = 'https://www.nasdaq.com/market-activity/stocks/screener'"
   ]
  },
  {
   "cell_type": "code",
   "execution_count": 16,
   "metadata": {},
   "outputs": [],
   "source": [
    "stocks = pd.read_csv('nasdaq_screener_1607314349083.csv')\n",
    "stocks = stocks[stocks['Market Cap'] > 1e+8] # 100m"
   ]
  },
  {
   "cell_type": "code",
   "execution_count": 4,
   "metadata": {},
   "outputs": [],
   "source": [
    "BACKPOPULATE = False"
   ]
  },
  {
   "cell_type": "code",
   "execution_count": 17,
   "metadata": {},
   "outputs": [],
   "source": [
    "companies = ['NIO']\n",
    "companies = list(stocks['Symbol'].unique())\n",
    "companies = [x for x in companies if '.' not in x]"
   ]
  },
  {
   "cell_type": "code",
   "execution_count": 20,
   "metadata": {},
   "outputs": [
    {
     "data": {
      "text/plain": [
       "4694"
      ]
     },
     "execution_count": 20,
     "metadata": {},
     "output_type": "execute_result"
    }
   ],
   "source": [
    "len(companies)"
   ]
  },
  {
   "cell_type": "code",
   "execution_count": null,
   "metadata": {},
   "outputs": [],
   "source": []
  },
  {
   "cell_type": "markdown",
   "metadata": {},
   "source": [
    "# CNN Forecasts"
   ]
  },
  {
   "cell_type": "code",
   "execution_count": null,
   "metadata": {},
   "outputs": [],
   "source": [
    "# Fix the numbers that are fucked."
   ]
  },
  {
   "cell_type": "code",
   "execution_count": 15,
   "metadata": {},
   "outputs": [],
   "source": [
    "urlroot = 'https://money.cnn.com/quote/forecast/forecast.html?symb='"
   ]
  },
  {
   "cell_type": "code",
   "execution_count": 288,
   "metadata": {},
   "outputs": [],
   "source": [
    "def extract_forecast_cnn(url, comp):\n",
    "    if type(url) == str:\n",
    "        timestamp = datetime.datetime.now()\n",
    "    else:\n",
    "        timestamp = pd.to_datetime(url.timestamp).tz_localize(None)\n",
    "        url = url.view_url\n",
    "    try:\n",
    "        page = requests.get(url)\n",
    "        soup = BeautifulSoup(page.text, features='lxml')\n",
    "        forecast_text = [x.text for x in soup.find_all('p') if \n",
    "                         re.search('The [0-9]* analysts offering 12-month price forecasts', x.text)][0]\n",
    "        forecast_nums = re.findall('[0-9.%+-]+', forecast_text)\n",
    "        forecast_info = {\n",
    "            'company': comp,\n",
    "            'timestamp': timestamp,\n",
    "            'num_analysts': forecast_nums[0],\n",
    "            'last_px': forecast_nums[6].strip('.'),\n",
    "            'median': forecast_nums[2],\n",
    "            'high': forecast_nums[3],\n",
    "            'low': forecast_nums[4].strip('.'),\n",
    "            'increase_from_last': forecast_nums[5],\n",
    "        }\n",
    "        try:\n",
    "            forecast_info['increase_to_low'] = ((float(forecast_info['low']) - float(forecast_info['last_px'])) / \n",
    "                                                    float(forecast_info['last_px']))\n",
    "            forecast_info['increase_to_low'] = np.round(forecast_info['increase_to_low']*100, 2)\n",
    "        except:\n",
    "            forecast_info['increase_to_low'] = None\n",
    "        return forecast_info\n",
    "    except IndexError:\n",
    "        print(comp, f'has some index error on {timestamp}')\n",
    "        return None\n",
    "\n",
    "def get_forecasts_cnn(comp):\n",
    "    url = urlroot + comp\n",
    "    forecasts = []\n",
    "    if BACKPOPULATE:\n",
    "        try:\n",
    "            urls = wbclient.search(url)\n",
    "        except Error as e:\n",
    "            print(e)\n",
    "            return []\n",
    "        for hist_url in [x for x in urls]:\n",
    "            extraction = extract_forecast_cnn(hist_url, comp)\n",
    "            if extraction:\n",
    "                forecasts.append(extraction)\n",
    "    forecasts.append(extract_forecast_cnn(url, comp))\n",
    "    return forecasts"
   ]
  },
  {
   "cell_type": "code",
   "execution_count": 295,
   "metadata": {},
   "outputs": [],
   "source": [
    "url = urlroot + 'XPEV'\n",
    "if type(url) == str:\n",
    "    timestamp = datetime.datetime.now()\n",
    "else:\n",
    "    timestamp = pd.to_datetime(url.timestamp).tz_localize(None)\n",
    "    url = url.view_url\n",
    "page = requests.get(url)\n",
    "soup = BeautifulSoup(page.text, features='lxml')\n",
    "forecast_text = [x.text for x in soup.find_all('p') if \n",
    "                 re.search('The [0-9]* analysts offering 12-month price forecasts', x.text)][0]\n",
    "forecast_nums = re.findall('[0-9.%+-]+', forecast_text)"
   ]
  },
  {
   "cell_type": "code",
   "execution_count": 307,
   "metadata": {},
   "outputs": [],
   "source": [
    "soup.time"
   ]
  },
  {
   "cell_type": "code",
   "execution_count": 284,
   "metadata": {},
   "outputs": [],
   "source": [
    "from multiprocessing import Pool"
   ]
  },
  {
   "cell_type": "code",
   "execution_count": null,
   "metadata": {},
   "outputs": [],
   "source": [
    "flatten = lambda t: [item for sublist in t for item in sublist]\n",
    "\n",
    "with Pool() as pool:\n",
    "    forecasts = tqdm(pool.imap_unordered(get_forecasts_cnn, companies), \n",
    "                              total=len(companies))\n",
    "    \n",
    "    forecasts = flatten([x for x in forecasts if x])\n",
    "    forecasts = pd.DataFrame(forecasts)"
   ]
  },
  {
   "cell_type": "code",
   "execution_count": null,
   "metadata": {},
   "outputs": [],
   "source": [
    "clean = forecasts[forecasts['increase_from_last'].str.contains('%')]\n",
    "clean.loc[:,'increase'] = clean.loc[:,'increase_from_last'].str.strip('%+').astype(float)\n",
    "clean = clean.drop('timestamp', axis=1)\n",
    "clean.sort_values('increase', ascending=False, inplace=True)\n",
    "clean.rename({\"company\":\"Symbol\"}, axis=1, inplace=True)\n",
    "clean = pd.merge(clean, stocks, how='left', on='Symbol')\n",
    "\n",
    "# Let's say all market caps > 1B\n",
    "clean = clean[clean['num_analysts'].astype(int) > 5]\n",
    "clean.loc[:,'diff'] = ((clean.loc[:,'low'].astype(float) - clean.loc[:,'last_px'].astype(float)) / \n",
    "                        clean.loc[:,'last_px'].astype(float))\n",
    "\n",
    "clean = clean.sort_values(by='diff', ascending=False)"
   ]
  },
  {
   "cell_type": "code",
   "execution_count": 220,
   "metadata": {},
   "outputs": [],
   "source": [
    "cn = clean[clean.Country==\"United States\"]\n",
    "cn = cn[~cn.Name.str.contains(\"epositary\")]"
   ]
  },
  {
   "cell_type": "code",
   "execution_count": 287,
   "metadata": {},
   "outputs": [
    {
     "data": {
      "text/html": [
       "<div>\n",
       "<style scoped>\n",
       "    .dataframe tbody tr th:only-of-type {\n",
       "        vertical-align: middle;\n",
       "    }\n",
       "\n",
       "    .dataframe tbody tr th {\n",
       "        vertical-align: top;\n",
       "    }\n",
       "\n",
       "    .dataframe thead th {\n",
       "        text-align: right;\n",
       "    }\n",
       "</style>\n",
       "<table border=\"1\" class=\"dataframe\">\n",
       "  <thead>\n",
       "    <tr style=\"text-align: right;\">\n",
       "      <th></th>\n",
       "      <th>Symbol</th>\n",
       "      <th>num_analysts</th>\n",
       "      <th>last_px</th>\n",
       "      <th>median</th>\n",
       "      <th>high</th>\n",
       "      <th>low</th>\n",
       "      <th>increase_from_last</th>\n",
       "      <th>increase</th>\n",
       "      <th>Name</th>\n",
       "      <th>Last Sale</th>\n",
       "      <th>Net Change</th>\n",
       "      <th>% Change</th>\n",
       "      <th>Market Cap</th>\n",
       "      <th>Country</th>\n",
       "      <th>IPO Year</th>\n",
       "      <th>Volume</th>\n",
       "      <th>Sector</th>\n",
       "      <th>Industry</th>\n",
       "      <th>diff</th>\n",
       "    </tr>\n",
       "  </thead>\n",
       "  <tbody>\n",
       "    <tr>\n",
       "      <th>28</th>\n",
       "      <td>HUYA</td>\n",
       "      <td>13</td>\n",
       "      <td>19.00</td>\n",
       "      <td>169.47</td>\n",
       "      <td>198.60</td>\n",
       "      <td>145.64</td>\n",
       "      <td>+791.96%</td>\n",
       "      <td>791.96</td>\n",
       "      <td>HUYA Inc. American depositary shares each  rep...</td>\n",
       "      <td>$19.00</td>\n",
       "      <td>-0.39</td>\n",
       "      <td>-2.011%</td>\n",
       "      <td>4.470653e+09</td>\n",
       "      <td>United States</td>\n",
       "      <td>2018.0</td>\n",
       "      <td>3888843</td>\n",
       "      <td>Technology</td>\n",
       "      <td>Computer Software: Programming Data Processing</td>\n",
       "      <td>6.665263</td>\n",
       "    </tr>\n",
       "    <tr>\n",
       "      <th>515</th>\n",
       "      <td>ALEC</td>\n",
       "      <td>8</td>\n",
       "      <td>14.55</td>\n",
       "      <td>31.50</td>\n",
       "      <td>44.00</td>\n",
       "      <td>28.00</td>\n",
       "      <td>+116.49%</td>\n",
       "      <td>116.49</td>\n",
       "      <td>Alector Inc. Common Stock</td>\n",
       "      <td>$14.55</td>\n",
       "      <td>0.89</td>\n",
       "      <td>6.515%</td>\n",
       "      <td>1.152981e+09</td>\n",
       "      <td>United States</td>\n",
       "      <td>2019.0</td>\n",
       "      <td>539444</td>\n",
       "      <td>Health Care</td>\n",
       "      <td>Biotechnology: Biological Products (No Diagnos...</td>\n",
       "      <td>0.924399</td>\n",
       "    </tr>\n",
       "    <tr>\n",
       "      <th>535</th>\n",
       "      <td>LGND</td>\n",
       "      <td>6</td>\n",
       "      <td>86.55</td>\n",
       "      <td>182.50</td>\n",
       "      <td>229.00</td>\n",
       "      <td>146.00</td>\n",
       "      <td>+110.86%</td>\n",
       "      <td>110.86</td>\n",
       "      <td>Ligand Pharmaceuticals Incorporated Common Stock</td>\n",
       "      <td>$86.56</td>\n",
       "      <td>1.18</td>\n",
       "      <td>1.382%</td>\n",
       "      <td>1.391999e+09</td>\n",
       "      <td>United States</td>\n",
       "      <td>NaN</td>\n",
       "      <td>188610</td>\n",
       "      <td>Health Care</td>\n",
       "      <td>Major Pharmaceuticals</td>\n",
       "      <td>0.686886</td>\n",
       "    </tr>\n",
       "    <tr>\n",
       "      <th>606</th>\n",
       "      <td>ADVM</td>\n",
       "      <td>7</td>\n",
       "      <td>13.72</td>\n",
       "      <td>27.00</td>\n",
       "      <td>36.00</td>\n",
       "      <td>21.00</td>\n",
       "      <td>+96.79%</td>\n",
       "      <td>96.79</td>\n",
       "      <td>Adverum Biotechnologies Inc. Common Stock</td>\n",
       "      <td>$13.71</td>\n",
       "      <td>-0.55</td>\n",
       "      <td>-3.857%</td>\n",
       "      <td>1.336418e+09</td>\n",
       "      <td>United States</td>\n",
       "      <td>2014.0</td>\n",
       "      <td>608000</td>\n",
       "      <td>Health Care</td>\n",
       "      <td>Biotechnology: Biological Products (No Diagnos...</td>\n",
       "      <td>0.530612</td>\n",
       "    </tr>\n",
       "    <tr>\n",
       "      <th>790</th>\n",
       "      <td>RETA</td>\n",
       "      <td>7</td>\n",
       "      <td>141.12</td>\n",
       "      <td>234.00</td>\n",
       "      <td>320.00</td>\n",
       "      <td>212.00</td>\n",
       "      <td>+65.82%</td>\n",
       "      <td>65.82</td>\n",
       "      <td>Reata Pharmaceuticals Inc. Class A Common Stock</td>\n",
       "      <td>$141.15</td>\n",
       "      <td>1.41</td>\n",
       "      <td>1.009%</td>\n",
       "      <td>4.815438e+09</td>\n",
       "      <td>United States</td>\n",
       "      <td>2016.0</td>\n",
       "      <td>395928</td>\n",
       "      <td>Health Care</td>\n",
       "      <td>Major Pharmaceuticals</td>\n",
       "      <td>0.502268</td>\n",
       "    </tr>\n",
       "    <tr>\n",
       "      <th>...</th>\n",
       "      <td>...</td>\n",
       "      <td>...</td>\n",
       "      <td>...</td>\n",
       "      <td>...</td>\n",
       "      <td>...</td>\n",
       "      <td>...</td>\n",
       "      <td>...</td>\n",
       "      <td>...</td>\n",
       "      <td>...</td>\n",
       "      <td>...</td>\n",
       "      <td>...</td>\n",
       "      <td>...</td>\n",
       "      <td>...</td>\n",
       "      <td>...</td>\n",
       "      <td>...</td>\n",
       "      <td>...</td>\n",
       "      <td>...</td>\n",
       "      <td>...</td>\n",
       "      <td>...</td>\n",
       "    </tr>\n",
       "    <tr>\n",
       "      <th>4109</th>\n",
       "      <td>OCUL</td>\n",
       "      <td>6</td>\n",
       "      <td>20.35</td>\n",
       "      <td>15.50</td>\n",
       "      <td>25.00</td>\n",
       "      <td>3.00</td>\n",
       "      <td>-23.83%</td>\n",
       "      <td>-23.83</td>\n",
       "      <td>Ocular Therapeutix Inc. Common Stock</td>\n",
       "      <td>$20.34</td>\n",
       "      <td>1.34</td>\n",
       "      <td>7.053%</td>\n",
       "      <td>1.452101e+09</td>\n",
       "      <td>United States</td>\n",
       "      <td>2014.0</td>\n",
       "      <td>1497258</td>\n",
       "      <td>Health Care</td>\n",
       "      <td>Major Pharmaceuticals</td>\n",
       "      <td>-0.852580</td>\n",
       "    </tr>\n",
       "    <tr>\n",
       "      <th>3021</th>\n",
       "      <td>AMD</td>\n",
       "      <td>32</td>\n",
       "      <td>94.02</td>\n",
       "      <td>95.00</td>\n",
       "      <td>120.00</td>\n",
       "      <td>13.00</td>\n",
       "      <td>+1.04%</td>\n",
       "      <td>1.04</td>\n",
       "      <td>Advanced Micro Devices Inc. Common Stock</td>\n",
       "      <td>$94.04</td>\n",
       "      <td>1.73</td>\n",
       "      <td>1.874%</td>\n",
       "      <td>1.131030e+11</td>\n",
       "      <td>United States</td>\n",
       "      <td>NaN</td>\n",
       "      <td>45532244</td>\n",
       "      <td>Technology</td>\n",
       "      <td>Semiconductors</td>\n",
       "      <td>-0.861732</td>\n",
       "    </tr>\n",
       "    <tr>\n",
       "      <th>4285</th>\n",
       "      <td>GME</td>\n",
       "      <td>9</td>\n",
       "      <td>16.91</td>\n",
       "      <td>6.00</td>\n",
       "      <td>19.00</td>\n",
       "      <td>1.60</td>\n",
       "      <td>-64.52%</td>\n",
       "      <td>-64.52</td>\n",
       "      <td>GameStop Corporation Common Stock</td>\n",
       "      <td>$16.90</td>\n",
       "      <td>0.78</td>\n",
       "      <td>4.839%</td>\n",
       "      <td>1.101231e+09</td>\n",
       "      <td>United States</td>\n",
       "      <td>2002.0</td>\n",
       "      <td>8957737</td>\n",
       "      <td>Consumer Services</td>\n",
       "      <td>Electronics Distribution</td>\n",
       "      <td>-0.905381</td>\n",
       "    </tr>\n",
       "    <tr>\n",
       "      <th>4161</th>\n",
       "      <td>TSLA</td>\n",
       "      <td>33</td>\n",
       "      <td>599.00</td>\n",
       "      <td>430.00</td>\n",
       "      <td>800.00</td>\n",
       "      <td>40.00</td>\n",
       "      <td>-28.21%</td>\n",
       "      <td>-28.21</td>\n",
       "      <td>Tesla Inc. Common Stock</td>\n",
       "      <td>$599.04</td>\n",
       "      <td>5.66</td>\n",
       "      <td>0.954%</td>\n",
       "      <td>5.678305e+11</td>\n",
       "      <td>United States</td>\n",
       "      <td>2010.0</td>\n",
       "      <td>29231475</td>\n",
       "      <td>Capital Goods</td>\n",
       "      <td>Auto Manufacturing</td>\n",
       "      <td>-0.933222</td>\n",
       "    </tr>\n",
       "    <tr>\n",
       "      <th>4217</th>\n",
       "      <td>AAL</td>\n",
       "      <td>18</td>\n",
       "      <td>16.41</td>\n",
       "      <td>10.25</td>\n",
       "      <td>24.00</td>\n",
       "      <td>1.00</td>\n",
       "      <td>-37.54%</td>\n",
       "      <td>-37.54</td>\n",
       "      <td>American Airlines Group Inc. Common Stock</td>\n",
       "      <td>$16.40</td>\n",
       "      <td>0.31</td>\n",
       "      <td>1.927%</td>\n",
       "      <td>1.001669e+10</td>\n",
       "      <td>United States</td>\n",
       "      <td>NaN</td>\n",
       "      <td>117086898</td>\n",
       "      <td>Transportation</td>\n",
       "      <td>Air Freight/Delivery Services</td>\n",
       "      <td>-0.939062</td>\n",
       "    </tr>\n",
       "  </tbody>\n",
       "</table>\n",
       "<p>1283 rows × 19 columns</p>\n",
       "</div>"
      ],
      "text/plain": [
       "     Symbol num_analysts last_px  median    high     low increase_from_last  \\\n",
       "28     HUYA           13   19.00  169.47  198.60  145.64           +791.96%   \n",
       "515    ALEC            8   14.55   31.50   44.00   28.00           +116.49%   \n",
       "535    LGND            6   86.55  182.50  229.00  146.00           +110.86%   \n",
       "606    ADVM            7   13.72   27.00   36.00   21.00            +96.79%   \n",
       "790    RETA            7  141.12  234.00  320.00  212.00            +65.82%   \n",
       "...     ...          ...     ...     ...     ...     ...                ...   \n",
       "4109   OCUL            6   20.35   15.50   25.00    3.00            -23.83%   \n",
       "3021    AMD           32   94.02   95.00  120.00   13.00             +1.04%   \n",
       "4285    GME            9   16.91    6.00   19.00    1.60            -64.52%   \n",
       "4161   TSLA           33  599.00  430.00  800.00   40.00            -28.21%   \n",
       "4217    AAL           18   16.41   10.25   24.00    1.00            -37.54%   \n",
       "\n",
       "      increase                                               Name Last Sale  \\\n",
       "28      791.96  HUYA Inc. American depositary shares each  rep...    $19.00   \n",
       "515     116.49                          Alector Inc. Common Stock    $14.55   \n",
       "535     110.86   Ligand Pharmaceuticals Incorporated Common Stock    $86.56   \n",
       "606      96.79          Adverum Biotechnologies Inc. Common Stock    $13.71   \n",
       "790      65.82    Reata Pharmaceuticals Inc. Class A Common Stock   $141.15   \n",
       "...        ...                                                ...       ...   \n",
       "4109    -23.83               Ocular Therapeutix Inc. Common Stock    $20.34   \n",
       "3021      1.04           Advanced Micro Devices Inc. Common Stock    $94.04   \n",
       "4285    -64.52                  GameStop Corporation Common Stock    $16.90   \n",
       "4161    -28.21                            Tesla Inc. Common Stock   $599.04   \n",
       "4217    -37.54          American Airlines Group Inc. Common Stock    $16.40   \n",
       "\n",
       "      Net Change % Change    Market Cap        Country  IPO Year     Volume  \\\n",
       "28         -0.39  -2.011%  4.470653e+09  United States    2018.0    3888843   \n",
       "515         0.89   6.515%  1.152981e+09  United States    2019.0     539444   \n",
       "535         1.18   1.382%  1.391999e+09  United States       NaN     188610   \n",
       "606        -0.55  -3.857%  1.336418e+09  United States    2014.0     608000   \n",
       "790         1.41   1.009%  4.815438e+09  United States    2016.0     395928   \n",
       "...          ...      ...           ...            ...       ...        ...   \n",
       "4109        1.34   7.053%  1.452101e+09  United States    2014.0    1497258   \n",
       "3021        1.73   1.874%  1.131030e+11  United States       NaN   45532244   \n",
       "4285        0.78   4.839%  1.101231e+09  United States    2002.0    8957737   \n",
       "4161        5.66   0.954%  5.678305e+11  United States    2010.0   29231475   \n",
       "4217        0.31   1.927%  1.001669e+10  United States       NaN  117086898   \n",
       "\n",
       "                 Sector                                           Industry  \\\n",
       "28           Technology     Computer Software: Programming Data Processing   \n",
       "515         Health Care  Biotechnology: Biological Products (No Diagnos...   \n",
       "535         Health Care                              Major Pharmaceuticals   \n",
       "606         Health Care  Biotechnology: Biological Products (No Diagnos...   \n",
       "790         Health Care                              Major Pharmaceuticals   \n",
       "...                 ...                                                ...   \n",
       "4109        Health Care                              Major Pharmaceuticals   \n",
       "3021         Technology                                     Semiconductors   \n",
       "4285  Consumer Services                           Electronics Distribution   \n",
       "4161      Capital Goods                                 Auto Manufacturing   \n",
       "4217     Transportation                      Air Freight/Delivery Services   \n",
       "\n",
       "          diff  \n",
       "28    6.665263  \n",
       "515   0.924399  \n",
       "535   0.686886  \n",
       "606   0.530612  \n",
       "790   0.502268  \n",
       "...        ...  \n",
       "4109 -0.852580  \n",
       "3021 -0.861732  \n",
       "4285 -0.905381  \n",
       "4161 -0.933222  \n",
       "4217 -0.939062  \n",
       "\n",
       "[1283 rows x 19 columns]"
      ]
     },
     "execution_count": 287,
     "metadata": {},
     "output_type": "execute_result"
    }
   ],
   "source": [
    "cn"
   ]
  },
  {
   "cell_type": "code",
   "execution_count": 289,
   "metadata": {},
   "outputs": [
    {
     "data": {
      "application/vnd.jupyter.widget-view+json": {
       "model_id": "55d9c643b30d49e0a67a069e6418062a",
       "version_major": 2,
       "version_minor": 0
      },
      "text/plain": [
       "HBox(children=(FloatProgress(value=0.0, max=5.0), HTML(value='')))"
      ]
     },
     "metadata": {},
     "output_type": "display_data"
    },
    {
     "name": "stdout",
     "output_type": "stream",
     "text": [
      "\n"
     ]
    }
   ],
   "source": [
    "BACKPOPULATE = True\n",
    "forecasts = []\n",
    "for comp in tqdm(['HUYA', 'ALEC', 'LGND', 'ADVM', 'GME']):\n",
    "    forecasts.extend(get_forecasts_cnn(comp))\n",
    "forecasts = pd.DataFrame(forecasts)"
   ]
  },
  {
   "cell_type": "code",
   "execution_count": null,
   "metadata": {},
   "outputs": [],
   "source": []
  },
  {
   "cell_type": "markdown",
   "metadata": {},
   "source": [
    "## MarketBeat"
   ]
  },
  {
   "cell_type": "markdown",
   "metadata": {},
   "source": [
    "Different things we can scrape: \n",
    "* Summary of ratings\n",
    "* Per broker analysis\n",
    "* Range of Earnings Estimates \n",
    "* Buying and Selling: https://www.marketbeat.com/stocks/NASDAQ/AAPL/institutional-ownership/"
   ]
  },
  {
   "cell_type": "code",
   "execution_count": 42,
   "metadata": {},
   "outputs": [],
   "source": [
    "mktbturl = lambda comp: f'https://www.marketbeat.com/stocks/NASDAQ/{comp.upper()}/price-target/?MostRecent=0'"
   ]
  },
  {
   "cell_type": "code",
   "execution_count": 23,
   "metadata": {},
   "outputs": [],
   "source": [
    "def extract_forecast_cnn(url, comp):\n",
    "    if type(url) == str:\n",
    "        page = requests.get(url)\n",
    "        timestamp = datetime.datetime.now()\n",
    "    else:\n",
    "        page = requests.get(url.view_url)\n",
    "        timestamp = pd.to_datetime(url.timestamp).tz_localize(None)\n",
    "    soup = BeautifulSoup(page.text, features='lxml')\n",
    "    forecast_text = [x.text for x in soup.find_all('p') if \n",
    "                     re.search('The [0-9]* analysts offering 12-month price forecasts', x.text)][0]\n",
    "    forecast_nums = re.findall('[0-9.%+-]+', forecast_text)\n",
    "    forecast_info = {\n",
    "        'company': comp,\n",
    "        'timestamp': timestamp,\n",
    "        'num_analysts': forecast_nums[0],\n",
    "        'median': forecast_nums[2],\n",
    "        'high': forecast_nums[3],\n",
    "        'low': forecast_nums[4].strip('.'),\n",
    "        'increase_from_last': forecast_nums[5],\n",
    "        'last_px': forecast_nums[6].strip('.')\n",
    "    }\n",
    "    return forecast_info"
   ]
  },
  {
   "cell_type": "raw",
   "metadata": {},
   "source": [
    "forecasts = []\n",
    "\n",
    "for comp in companies:\n",
    "    url = mktbturl(comp)\n",
    "    if BACKPOPULATE:\n",
    "        urls = wbclient.search(url)\n",
    "        for url in tqdm([x for x in urls]):\n",
    "            forecasts.append(extract_forecast_cnn(url, comp))\n",
    "    forecasts.append(extract_forecast_cnn(url, comp))"
   ]
  },
  {
   "cell_type": "code",
   "execution_count": 41,
   "metadata": {},
   "outputs": [
    {
     "data": {
      "text/plain": [
       "'https://www.marketbeat.com/stocks/NYSE/AAPL/price-target/?MostRecent=0'"
      ]
     },
     "execution_count": 41,
     "metadata": {},
     "output_type": "execute_result"
    }
   ],
   "source": [
    "url"
   ]
  },
  {
   "cell_type": "code",
   "execution_count": 43,
   "metadata": {},
   "outputs": [],
   "source": [
    "url = mktbturl('AAPL')\n",
    "page = requests.get(url)\n",
    "soup = BeautifulSoup(page.text, features='lxml')\n",
    "\n",
    "for x in soup.find_all('tbody')[1]:\n",
    "    print(x.text, '\\n')"
   ]
  },
  {
   "cell_type": "code",
   "execution_count": 76,
   "metadata": {},
   "outputs": [
    {
     "name": "stdout",
     "output_type": "stream",
     "text": [
      "12/7/2017\n",
      "KeyCorp\n",
      "Reiterated Rating\n",
      "Buy\n",
      "$48.00\n",
      "Low\n",
      "\n"
     ]
    }
   ],
   "source": [
    "[print(x.text) for x in x.find_all(\"td\")];"
   ]
  },
  {
   "cell_type": "code",
   "execution_count": 113,
   "metadata": {},
   "outputs": [
    {
     "data": {
      "text/html": [
       "<div>\n",
       "<style scoped>\n",
       "    .dataframe tbody tr th:only-of-type {\n",
       "        vertical-align: middle;\n",
       "    }\n",
       "\n",
       "    .dataframe tbody tr th {\n",
       "        vertical-align: top;\n",
       "    }\n",
       "\n",
       "    .dataframe thead th {\n",
       "        text-align: right;\n",
       "    }\n",
       "</style>\n",
       "<table border=\"1\" class=\"dataframe\">\n",
       "  <thead>\n",
       "    <tr style=\"text-align: right;\">\n",
       "      <th></th>\n",
       "      <th></th>\n",
       "      <th>Today</th>\n",
       "      <th>30 Days Ago</th>\n",
       "      <th>90 Days Ago</th>\n",
       "      <th>180 Days Ago</th>\n",
       "    </tr>\n",
       "  </thead>\n",
       "  <tbody>\n",
       "    <tr>\n",
       "      <th>0</th>\n",
       "      <td>None</td>\n",
       "      <td>None</td>\n",
       "      <td>None</td>\n",
       "      <td>None</td>\n",
       "      <td>None</td>\n",
       "    </tr>\n",
       "    <tr>\n",
       "      <th>1</th>\n",
       "      <td>AAPL Consensus Rating:</td>\n",
       "      <td>Buy</td>\n",
       "      <td>Buy</td>\n",
       "      <td>Hold</td>\n",
       "      <td>Buy</td>\n",
       "    </tr>\n",
       "    <tr>\n",
       "      <th>2</th>\n",
       "      <td>AAPL Consensus Rating Score:</td>\n",
       "      <td>2.56</td>\n",
       "      <td>2.53</td>\n",
       "      <td>2.49</td>\n",
       "      <td>2.58</td>\n",
       "    </tr>\n",
       "    <tr>\n",
       "      <th>3</th>\n",
       "      <td>AAPL Analyst Ratings:</td>\n",
       "      <td>3 Sell Rating(s)14 Hold Rating(s)28 Buy Rating...</td>\n",
       "      <td>3 Sell Rating(s)15 Hold Rating(s)27 Buy Rating...</td>\n",
       "      <td>4 Sell Rating(s)15 Hold Rating(s)26 Buy Rating...</td>\n",
       "      <td>3 Sell Rating(s)12 Hold Rating(s)28 Buy Rating...</td>\n",
       "    </tr>\n",
       "    <tr>\n",
       "      <th>4</th>\n",
       "      <td>AAPL Consensus Price Target:</td>\n",
       "      <td>$112.94</td>\n",
       "      <td>$111.48</td>\n",
       "      <td>$100.74</td>\n",
       "      <td>$76.70</td>\n",
       "    </tr>\n",
       "    <tr>\n",
       "      <th>5</th>\n",
       "      <td>AAPL Price Target Upside:</td>\n",
       "      <td>8.74% downside</td>\n",
       "      <td>2.84% downside</td>\n",
       "      <td>6.75% downside</td>\n",
       "      <td>2.73% upside</td>\n",
       "    </tr>\n",
       "  </tbody>\n",
       "</table>\n",
       "</div>"
      ],
      "text/plain": [
       "                                  \\\n",
       "0                           None   \n",
       "1        AAPL Consensus Rating:    \n",
       "2  AAPL Consensus Rating Score:    \n",
       "3         AAPL Analyst Ratings:    \n",
       "4  AAPL Consensus Price Target:    \n",
       "5     AAPL Price Target Upside:    \n",
       "\n",
       "                                               Today  \\\n",
       "0                                               None   \n",
       "1                                                Buy   \n",
       "2                                               2.56   \n",
       "3  3 Sell Rating(s)14 Hold Rating(s)28 Buy Rating...   \n",
       "4                                            $112.94   \n",
       "5                                     8.74% downside   \n",
       "\n",
       "                                         30 Days Ago  \\\n",
       "0                                               None   \n",
       "1                                                Buy   \n",
       "2                                               2.53   \n",
       "3  3 Sell Rating(s)15 Hold Rating(s)27 Buy Rating...   \n",
       "4                                            $111.48   \n",
       "5                                     2.84% downside   \n",
       "\n",
       "                                         90 Days Ago  \\\n",
       "0                                               None   \n",
       "1                                               Hold   \n",
       "2                                               2.49   \n",
       "3  4 Sell Rating(s)15 Hold Rating(s)26 Buy Rating...   \n",
       "4                                            $100.74   \n",
       "5                                     6.75% downside   \n",
       "\n",
       "                                        180 Days Ago  \n",
       "0                                               None  \n",
       "1                                                Buy  \n",
       "2                                               2.58  \n",
       "3  3 Sell Rating(s)12 Hold Rating(s)28 Buy Rating...  \n",
       "4                                             $76.70  \n",
       "5                                       2.73% upside  "
      ]
     },
     "execution_count": 113,
     "metadata": {},
     "output_type": "execute_result"
    }
   ],
   "source": [
    "l = []\n",
    "columns = [x.text for x in soup.find_all('table')[0].find_all('th')]\n",
    "for tr in soup.find_all('table')[0].find_all('tr'):\n",
    "    td = tr.find_all('td')\n",
    "    row = [tr.text for tr in td]\n",
    "    l.append(row)\n",
    "pd.DataFrame(l, columns=columns)"
   ]
  },
  {
   "cell_type": "code",
   "execution_count": 82,
   "metadata": {},
   "outputs": [],
   "source": [
    "sm = soup.find_all('tbody')[0]\n",
    "for "
   ]
  },
  {
   "cell_type": "code",
   "execution_count": 86,
   "metadata": {},
   "outputs": [
    {
     "data": {
      "text/plain": [
       "[<tr><td style=\"vertical-align:top\"><strong>AAPL Consensus Rating: </strong></td><td>Buy</td><td>Buy</td><td>Hold</td><td>Buy</td></tr>,\n",
       " <tr><td style=\"vertical-align:top\"><strong>AAPL Consensus Rating Score: </strong></td><td>2.56</td><td>2.53</td><td>2.49</td><td>2.58</td></tr>,\n",
       " <tr><td style=\"vertical-align:top\"><strong>AAPL Analyst Ratings: </strong></td><td>3 Sell Rating(s)<br/>14 Hold Rating(s)<br/>28 Buy Rating(s)<br/>0 Strong Buy Rating(s)</td><td>3 Sell Rating(s)<br/>15 Hold Rating(s)<br/>27 Buy Rating(s)<br/>0 Strong Buy Rating(s)</td><td>4 Sell Rating(s)<br/>15 Hold Rating(s)<br/>26 Buy Rating(s)<br/>0 Strong Buy Rating(s)</td><td>3 Sell Rating(s)<br/>12 Hold Rating(s)<br/>28 Buy Rating(s)<br/>0 Strong Buy Rating(s)</td></tr>,\n",
       " <tr><td style=\"vertical-align:top\"><strong>AAPL Consensus Price Target: </strong></td><td>$112.94</td><td>$111.48</td><td>$100.74</td><td>$76.70</td></tr>,\n",
       " <tr><td style=\"vertical-align:top\"><strong>AAPL Price Target Upside: </strong></td><td>8.74% downside</td><td>2.84% downside</td><td>6.75% downside</td><td>2.73% upside</td></tr>]"
      ]
     },
     "execution_count": 86,
     "metadata": {},
     "output_type": "execute_result"
    }
   ],
   "source": [
    "sm.find_all('tr')"
   ]
  },
  {
   "cell_type": "code",
   "execution_count": 44,
   "metadata": {
    "scrolled": false
   },
   "outputs": [
    {
     "name": "stdout",
     "output_type": "stream",
     "text": [
      "<p>Sign up for MarketBeat All Access to gain access to MarketBeat's full suite of research tools:</p> \n",
      "\n",
      "<p>View the latest news, buy/sell ratings, SEC filings and insider transactions for your stocks. Compare your portfolio performance to leading indices and get personalized stock ideas based on your portfolio.</p> \n",
      "\n",
      "<p>Get daily stock ideas top-performing Wall Street analysts. Get short term trading ideas from the MarketBeat Idea Engine. View which stocks are hot on social media with MarketBeat's trending stocks report.</p> \n",
      "\n",
      "<p>Identify stocks that meet your criteria using seven unique stock screeners. See what's happening in the market right now with MarketBeat's real-time news feed. Export data to Excel for your own analysis. </p> \n",
      "\n",
      "<p>Learn everything you need to know about successful options trading with this three-part video course.</p> \n",
      "\n",
      "<p>Looking for new stock ideas? Want to see which stocks are moving? View our full suite of financial calendars and market data tables, all for free.</p> \n",
      "\n",
      "<p>Receive a free world-class investing education from MarketBeat. Learn about financial terms, types of investments, trading strategies and more.</p> \n",
      "\n",
      "<p class=\"h2 pt-3 m-0 mb-2 text-center\" style=\"font-size: 1.4rem;\">As Featured By:</p> \n",
      "\n",
      "<p>MarketBeat empowers individual investors to make better trading decisions by providing real-time financial data and objective market analysis. Whether you’re looking for analyst ratings, corporate buybacks, dividends, earnings, economic reports, financials, insider trades, IPOs, SEC filings or stock splits, MarketBeat has the objective information you need to analyze any stock. <a href=\"/about/\">Learn more.</a></p> \n",
      "\n",
      "<p class=\"footer-follow no-underline m-0\">\n",
      "<span>\n",
      "<a href=\"https://twitter.com/MarketBeatCom\" target=\"_blank\" title=\"Follow us on Twitter\">\n",
      "<span class=\"mb-icon icon-share-twitter\"></span>\n",
      "</a>\n",
      "<a href=\"https://www.facebook.com/marketbeatcom/\" target=\"_blank\" title=\"Follow us on Facebook\">\n",
      "<span class=\"mb-icon icon-share-facebook\"></span>\n",
      "</a>\n",
      "<a href=\"https://stocktwits.com/MarketBeat\" target=\"_blank\" title=\"Follow us on Stocktwits\">\n",
      "<span class=\"mb-icon icon-share-stocktwits\"></span>\n",
      "</a>\n",
      "</span>\n",
      "</p> \n",
      "\n",
      "<p style=\"padding-top: 10px;line-height: 74px;\">\n",
      "<a href=\"https://www.bbb.org/south-dakota/business-reviews/financial-consultants/marketbeatcom-in-sioux-falls-sd-300169555#bbbseal\" target=\"_blank\"><img alt=\"MarketBeat is accredited by the Better Business Bureau\" src=\"/images/better-business-bureau-banner.png\" title=\"MarketBeat is accredited by the Better Business Bureau\" width=\"150\"/></a>\n",
      "</p> \n",
      "\n",
      "<p>\n",
      "© American Consumer News, LLC dba MarketBeat® 2010-2020. All rights reserved.<br/>\n",
      "326 E 8th St #105, Sioux Falls, SD 57103 | <a class=\"__cf_email__\" data-cfemail=\"d8bbb7b6acb9bbac98b5b9aab3bdacbabdb9acf6bbb7b5\" href=\"/cdn-cgi/l/email-protection\">[email protected]</a> | (844) 978-6257<br/>\n",
      "MarketBeat does not provide financial advice and does not issue recommendations or offers to buy stock or sell any security. <a href=\"/terms/#invest\">Learn more</a>.\n",
      "<br/><br/>\n",
      "<a href=\"/do-not-sell-my-information/\">Do Not Sell My Information</a>\n",
      "<br/>\n",
      "</p> \n",
      "\n",
      "<p class=\"small\">\n",
      "© 2020 Market data provided is at least 10-minutes delayed and hosted by <a href=\"https://www.barchartmarketdata.com/\" rel=\"nofollow\">Barchart Solutions</a>. Fundamental company data provided by Morningstar and Zacks Investment Research. Information is provided 'as-is' and solely for informational purposes, not for trading purposes or advice, and is delayed. To see all exchange delays and terms of use please see <a href=\"https://www.barchartmarketdata.com/terms\" rel=\"nofollow\">disclaimer</a>.<span class=\"d-none d-sm-inline-block\" id=\"keep-for-checking-size\"></span>\n",
      "</p> \n",
      "\n",
      "<p class=\"optinform-text-container lh-medium\">\n",
      "Enter your email address below to receive a concise daily summary of analysts' upgrades, downgrades and new coverage with MarketBeat.com's FREE daily email newsletter.\n",
      "</p> \n",
      "\n"
     ]
    }
   ],
   "source": [
    "for p in soup.find_all('p')[4:]:\n",
    "    print(p, '\\n')"
   ]
  },
  {
   "cell_type": "code",
   "execution_count": 28,
   "metadata": {},
   "outputs": [
    {
     "data": {
      "text/plain": [
       "'https://www.marketbeat.com/stocks/NYSE/AAPL/price-target/?MostRecent=0'"
      ]
     },
     "execution_count": 28,
     "metadata": {},
     "output_type": "execute_result"
    }
   ],
   "source": [
    "url"
   ]
  },
  {
   "cell_type": "code",
   "execution_count": 36,
   "metadata": {},
   "outputs": [
    {
     "data": {
      "text/plain": [
       "<generator object WaybackClient.search at 0x7f9fd0d46450>"
      ]
     },
     "execution_count": 36,
     "metadata": {},
     "output_type": "execute_result"
    }
   ],
   "source": [
    "urls"
   ]
  },
  {
   "cell_type": "code",
   "execution_count": null,
   "metadata": {},
   "outputs": [],
   "source": []
  },
  {
   "cell_type": "markdown",
   "metadata": {},
   "source": [
    "## TipRank\n",
    "\n",
    "TipRank is rendered with JavaScript, so we must pull it with [Splash](https://github.com/scrapinghub/splash) or [ScrappySplash](https://github.com/scrapy-plugins/scrapy-splash)"
   ]
  },
  {
   "cell_type": "code",
   "execution_count": 38,
   "metadata": {},
   "outputs": [],
   "source": [
    "tiprankurl = lambda comp: f'https://www.tipranks.com/stocks/{comp}/forecast'"
   ]
  },
  {
   "cell_type": "code",
   "execution_count": null,
   "metadata": {},
   "outputs": [],
   "source": [
    "def extract_forecast_cnn(url, comp):\n",
    "    if type(url) == str:\n",
    "        page = requests.get(url)\n",
    "        timestamp = datetime.datetime.now()\n",
    "    else:\n",
    "        page = requests.get(url.view_url)\n",
    "        timestamp = pd.to_datetime(url.timestamp).tz_localize(None)\n",
    "    soup = BeautifulSoup(page.text, features='lxml')\n",
    "    forecast_text = [x.text for x in soup.find_all('p') if \n",
    "                     re.search('The [0-9]* analysts offering 12-month price forecasts', x.text)][0]\n",
    "    forecast_nums = re.findall('[0-9.%+-]+', forecast_text)\n",
    "    forecast_info = {\n",
    "        'company': comp,\n",
    "        'timestamp': timestamp,\n",
    "        'num_analysts': forecast_nums[0],\n",
    "        'median': forecast_nums[2],\n",
    "        'high': forecast_nums[3],\n",
    "        'low': forecast_nums[4].strip('.'),\n",
    "        'increase_from_last': forecast_nums[5],\n",
    "        'last_px': forecast_nums[6].strip('.')\n",
    "    }\n",
    "    return forecast_info"
   ]
  },
  {
   "cell_type": "code",
   "execution_count": 45,
   "metadata": {},
   "outputs": [],
   "source": [
    "urls = wbclient.search(tiprankurl(comp))"
   ]
  },
  {
   "cell_type": "code",
   "execution_count": 46,
   "metadata": {},
   "outputs": [],
   "source": [
    "urls = [x for x in urls]"
   ]
  },
  {
   "cell_type": "code",
   "execution_count": 58,
   "metadata": {},
   "outputs": [
    {
     "data": {
      "text/plain": [
       "'http://web.archive.org/web/20200822161720/https://www.tipranks.com/stocks/nio/forecast'"
      ]
     },
     "execution_count": 58,
     "metadata": {},
     "output_type": "execute_result"
    }
   ],
   "source": [
    "urls[0].view_url"
   ]
  },
  {
   "cell_type": "code",
   "execution_count": 72,
   "metadata": {},
   "outputs": [],
   "source": [
    "page = requests.get(tiprankurl(comp))\n",
    "timestamp = pd.to_datetime(urls[0].timestamp).tz_localize(None)\n",
    "soup = BeautifulSoup(page.text, 'html.parser')"
   ]
  },
  {
   "cell_type": "code",
   "execution_count": 75,
   "metadata": {},
   "outputs": [
    {
     "data": {
      "text/plain": [
       "<!DOCTYPE html>\n",
       "\n",
       "<html>\n",
       "<head style=\"display: none\" typeof=\"og:article\">\n",
       "<meta content=\"IE=EDGE\" http-equiv=\"X-UA-Compatible\"/>\n",
       "<meta content=\"tipranks://\" property=\"al:ios:url\"/>\n",
       "<meta content=\"1237516490\" property=\"al:ios:app_store_id\"/>\n",
       "<meta content=\"Smart Portfolio\" property=\"al:ios:app_name\"/>\n",
       "<meta content=\"width=device-width, initial-scale=1.0, maximum-scale=1.0, user-scalable=no\" name=\"viewport\"/>\n",
       "<meta charset=\"utf-8\"/>\n",
       "<link href=\"/favicon.ico\" rel=\"icon\"/>\n",
       "<link href=\"//trcdn.tipranks.com/website/e9e808882f53ee2f2e63.styles.css\" rel=\"stylesheet\"/>\n",
       "<noscript>\n",
       "<style>\n",
       "      .hide-no-js {\n",
       "        display: none;\n",
       "      }\n",
       "\n",
       "      .no-opacity-no-js {\n",
       "        opacity: 1;\n",
       "      }\n",
       "    </style>\n",
       "</noscript>\n",
       "<base href=\"/\"/>\n",
       "<!-- Google Tag Manager -->\n",
       "<noscript>\n",
       "<iframe height=\"0\" src=\"//www.googletagmanager.com/ns.html?id=GTM-WMX37F&amp;pageCategory=sports&amp;visitorType=returning\" style=\"display:none;visibility:hidden\" width=\"0\"></iframe>\n",
       "</noscript>\n",
       "<script>\n",
       "    window.setTimeout(function () {\n",
       "      (function (w, d, s, l, i) {\n",
       "        w[l] = w[l] || []; w[l].push({\n",
       "          'gtm.start':\n",
       "            new Date().getTime(), event: 'gtm.js'\n",
       "        }); var f = d.getElementsByTagName(s)[0],\n",
       "          j = d.createElement(s), dl = l != 'dataLayer' ? '&l=' + l : ''; j.async = true; j.src =\n",
       "            '//www.googletagmanager.com/gtm.js?id=' + i + dl; f.parentNode.insertBefore(j, f);\n",
       "      })(window, document, 'script', 'dataLayer', \"GTM-WMX37F\");\n",
       "    }, 0);\n",
       "  </script>\n",
       "<!-- End Google Tag Manager -->\n",
       "<link href=\"//trcdn.tipranks.com/website/e9e808882f53ee2f2e63.styles.css\" rel=\"stylesheet\"/></head>\n",
       "<body>\n",
       "<div id=\"app\"></div>\n",
       "<div id=\"modal\"></div>\n",
       "<script>\n",
       "    if (window.location.port !== '80') window.__env__ = 'dev';\n",
       "  </script>\n",
       "<script>\n",
       "    window.appHash = 'e9e808882f53ee2f2e63';\n",
       "  </script>\n",
       "<script src=\"https://polyfill.io/v3/polyfill.min.js\"></script>\n",
       "<script src=\"https://cdn.polyfill.io/v2/polyfill.min.js?features=Intl.~locale.en\"></script>\n",
       "<script crossorigin=\"anonymous\" integrity=\"sha384-vqdIZ/QLRwPCEuhZYvYR9a3IQPsfnOMePPc6ODEOeIZTqsZh3ox3KIp1osNKjcAw\" src=\"https://cdnjs.cloudflare.com/ajax/libs/babel-polyfill/6.13.0/polyfill.min.js\"></script>\n",
       "<script crossorigin=\"anonymous\" integrity=\"sha512-SUJujhtUWZUlwsABaZNnTFRlvCu7XGBZBL1VF33qRvvgNk3pBS9E353kcag4JAv05/nsB9sanSXFbdHAUW9+lg==\" src=\"https://cdnjs.cloudflare.com/ajax/libs/react/16.13.1/umd/react.production.min.js\"></script>\n",
       "<script crossorigin=\"anonymous\" integrity=\"sha512-SYsXmAblZhruCNUVmTp5/v2a1Fnoia06iJh3+L9B9wUaqpRVjcNBQsqAglQG9b5+IaVCfLDH5+vW923JL5epZA==\" src=\"https://cdnjs.cloudflare.com/ajax/libs/react-dom/16.13.1/umd/react-dom.production.min.js\"></script>\n",
       "<script crossorigin=\"anonymous\" integrity=\"sha256-4l+MLGOR7l/v3VuQiGgchPcP2mEDT/9zq+JTLqBdFL8=\" src=\"https://cdnjs.cloudflare.com/ajax/libs/d3/4.7.1/d3.min.js\"></script>\n",
       "<script crossorigin=\"anonymous\" integrity=\"sha256-BTdxYW4Q/a3Xudq+5aK+ucGpARRiPK8IrjcS5umC6nI=\" src=\"https://cdnjs.cloudflare.com/ajax/libs/rxjs/2.5.3/rx.lite.min.js\"></script>\n",
       "<script crossorigin=\"anonymous\" integrity=\"sha256-13JFytp+tj8jsxr6GQOVLCgcYfMUo2Paw4jVrnXLUPE=\" src=\"https://cdnjs.cloudflare.com/ajax/libs/immutable/3.8.1/immutable.min.js\"></script>\n",
       "<script crossorigin=\"anonymous\" integrity=\"sha256-J7pBqENhYJK54dGzFYvWbRUt53NcwU848aSgHjZNQp8=\" src=\"https://cdnjs.cloudflare.com/ajax/libs/react-router/3.2.1/ReactRouter.min.js\"></script>\n",
       "<script crossorigin=\"anonymous\" integrity=\"sha256-7/yoZS3548fXSRXqc/xYzjsmuW3sFKzuvOCHd06Pmps=\" src=\"https://cdnjs.cloudflare.com/ajax/libs/lodash.js/4.17.11/lodash.min.js\"></script>\n",
       "<script crossorigin=\"anonymous\" integrity=\"sha256-CutOzxCRucUsn6C6TcEYsauvvYilEniTXldPa6/wu0k=\" src=\"https://cdnjs.cloudflare.com/ajax/libs/moment.js/2.22.2/moment.min.js\"></script>\n",
       "<script crossorigin=\"anonymous\" integrity=\"sha256-/9bZi7b3Fa1NoSR9w6cUPmVXoKVL0LXl8Z86X05sjBk=\" src=\"https://cdnjs.cloudflare.com/ajax/libs/react-slick/0.23.2/react-slick.min.js\"></script>\n",
       "<script src=\"//trcdn.tipranks.com/website/e9e808882f.964dd6e882.styles.bundle.js\" type=\"text/javascript\"></script><script src=\"//trcdn.tipranks.com/website/e9e808882f.964dd6e882.main.bundle.js\" type=\"text/javascript\"></script></body>\n",
       "</html>"
      ]
     },
     "execution_count": 75,
     "metadata": {},
     "output_type": "execute_result"
    }
   ],
   "source": [
    "soup"
   ]
  },
  {
   "cell_type": "code",
   "execution_count": null,
   "metadata": {},
   "outputs": [],
   "source": [
    "        for url in tqdm([x for x in urls]):\n",
    "            forecasts.append(extract_forecast_cnn(url, comp))\n",
    "    forecasts.append(extract_forecast_cnn(url, comp))"
   ]
  },
  {
   "cell_type": "code",
   "execution_count": null,
   "metadata": {},
   "outputs": [],
   "source": []
  },
  {
   "cell_type": "markdown",
   "metadata": {},
   "source": [
    "# WallstreetZen\n",
    "\n",
    "https://www.wallstreetzen.com/stocks/us/nasdaq/aapl/stock-forecast\n",
    "\n",
    "https://www.wallstreetzen.com/stocks/us/nyse/nio/stock-forecast"
   ]
  },
  {
   "cell_type": "code",
   "execution_count": null,
   "metadata": {},
   "outputs": [],
   "source": []
  },
  {
   "cell_type": "code",
   "execution_count": null,
   "metadata": {},
   "outputs": [],
   "source": []
  },
  {
   "cell_type": "markdown",
   "metadata": {},
   "source": [
    "### MorningStar\n",
    "\n",
    "* Short Interest Rate\n",
    "* Dividends\n",
    "* Ownership % Change Trends\n",
    "* Executive Team -> Profile -> Recent Transactions \n",
    "\n",
    "* Ratings: http://screen.morningstar.com/StkStarRatings/StkRatingsPrevDayChangeDesc1.html"
   ]
  },
  {
   "cell_type": "code",
   "execution_count": null,
   "metadata": {},
   "outputs": [],
   "source": []
  },
  {
   "cell_type": "code",
   "execution_count": null,
   "metadata": {},
   "outputs": [],
   "source": []
  },
  {
   "cell_type": "code",
   "execution_count": null,
   "metadata": {},
   "outputs": [],
   "source": []
  },
  {
   "cell_type": "code",
   "execution_count": null,
   "metadata": {},
   "outputs": [],
   "source": []
  },
  {
   "cell_type": "markdown",
   "metadata": {},
   "source": [
    "### For Screeners \n",
    "\n",
    "https://www.marketbeat.com/market-data/"
   ]
  },
  {
   "cell_type": "code",
   "execution_count": null,
   "metadata": {},
   "outputs": [],
   "source": []
  },
  {
   "cell_type": "code",
   "execution_count": null,
   "metadata": {},
   "outputs": [],
   "source": []
  },
  {
   "cell_type": "code",
   "execution_count": null,
   "metadata": {},
   "outputs": [],
   "source": []
  },
  {
   "cell_type": "code",
   "execution_count": null,
   "metadata": {},
   "outputs": [],
   "source": []
  }
 ],
 "metadata": {
  "kernelspec": {
   "display_name": "Python 3",
   "language": "python",
   "name": "python3"
  },
  "language_info": {
   "codemirror_mode": {
    "name": "ipython",
    "version": 3
   },
   "file_extension": ".py",
   "mimetype": "text/x-python",
   "name": "python",
   "nbconvert_exporter": "python",
   "pygments_lexer": "ipython3",
   "version": "3.7.9"
  }
 },
 "nbformat": 4,
 "nbformat_minor": 4
}
